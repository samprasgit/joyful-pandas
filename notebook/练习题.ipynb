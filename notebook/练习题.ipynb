{
 "cells": [
  {
   "cell_type": "code",
   "execution_count": 28,
   "id": "87a9eaba",
   "metadata": {
    "ExecuteTime": {
     "end_time": "2022-09-30T16:23:37.807027Z",
     "start_time": "2022-09-30T16:23:37.804158Z"
    }
   },
   "outputs": [],
   "source": [
    "import pandas as pd \n",
    "import numpy  as np \n",
    "import matplotlib.pyplot as plt "
   ]
  },
  {
   "cell_type": "code",
   "execution_count": 29,
   "id": "610e389c",
   "metadata": {
    "ExecuteTime": {
     "end_time": "2022-09-30T16:23:40.162027Z",
     "start_time": "2022-09-30T16:23:40.159077Z"
    }
   },
   "outputs": [],
   "source": [
    "# 多行显示\n",
    "from IPython.core.interactiveshell import InteractiveShell\n",
    "InteractiveShell.ast_node_interactivity=\"all\""
   ]
  },
  {
   "cell_type": "markdown",
   "id": "784a9384",
   "metadata": {},
   "source": [
    "## Numpy的向量化运算"
   ]
  },
  {
   "cell_type": "markdown",
   "id": "84c15398",
   "metadata": {},
   "source": [
    "### 给定一个正整数列表，请找出缺失的最小正整数 "
   ]
  },
  {
   "cell_type": "code",
   "execution_count": 7,
   "id": "1bcd7dda",
   "metadata": {
    "ExecuteTime": {
     "end_time": "2022-09-11T14:42:11.564360Z",
     "start_time": "2022-09-11T14:42:11.547383Z"
    }
   },
   "outputs": [
    {
     "data": {
      "text/plain": [
       "1"
      ]
     },
     "execution_count": 7,
     "metadata": {},
     "output_type": "execute_result"
    },
    {
     "data": {
      "text/plain": [
       "4"
      ]
     },
     "execution_count": 7,
     "metadata": {},
     "output_type": "execute_result"
    },
    {
     "data": {
      "text/plain": [
       "6"
      ]
     },
     "execution_count": 7,
     "metadata": {},
     "output_type": "execute_result"
    }
   ],
   "source": [
    "# 构造函数\n",
    "def get_miss(nums):\n",
    "    n = len(nums)\n",
    "    for i in range(n):\n",
    "        while 1 <= nums[i] <= n and nums[i] != nums[nums[i]-1]:\n",
    "            # 交换\n",
    "            nums[nums[i]-1], nums[i] = nums[i], nums[nums[i]-1]\n",
    "\n",
    "    # 将数组恢复到正确位置后，再次遍历，当某个元素不在正确位置时，就是要找到的第一个缺失的正数\n",
    "    for i in range(n):\n",
    "        if nums[i] != i+1:\n",
    "            return i+1\n",
    "\n",
    "    return n+1\n",
    "\n",
    "\n",
    "#  测试\n",
    "arr = np.array([2, 3, 4])\n",
    "get_miss(arr)\n",
    "\n",
    "arr2 = np.array([6, 3, 5, 1, 2])\n",
    "get_miss(arr2)\n",
    "\n",
    "arr3 = np.array([5, 2, 1, 3, 4])\n",
    "get_miss(arr3)"
   ]
  },
  {
   "cell_type": "markdown",
   "id": "5dd9a9fc",
   "metadata": {},
   "source": [
    "### 设计一个生成二维NumPy数组的函数get_res()，其输入为正整数n，返回的数组构造方式如下：第1行填入1个1，第2行在上一行填入位置的下一列连续填入2个2，第3行在第二行最后一个填入位置的下一列连续填入3个3，…，第n行在第n-1行最后一个填入位置的下一列连续填入n个n。\n",
    "\n"
   ]
  },
  {
   "cell_type": "code",
   "execution_count": 26,
   "id": "5ed16d8e",
   "metadata": {
    "ExecuteTime": {
     "end_time": "2022-09-11T15:10:17.358642Z",
     "start_time": "2022-09-11T15:10:17.351180Z"
    }
   },
   "outputs": [
    {
     "data": {
      "text/plain": [
       "array([[1, 0, 0, 0, 0, 0, 0, 0, 0, 0],\n",
       "       [0, 2, 2, 0, 0, 0, 0, 0, 0, 0],\n",
       "       [0, 0, 0, 3, 3, 3, 0, 0, 0, 0],\n",
       "       [0, 0, 0, 0, 0, 0, 4, 4, 4, 4]])"
      ]
     },
     "execution_count": 26,
     "metadata": {},
     "output_type": "execute_result"
    }
   ],
   "source": [
    "def get_length(x):\n",
    "    return int(x*(x+1)/2)\n",
    "\n",
    "def get_res(n):\n",
    "    max_length = get_length(n)\n",
    "    results = np.zeros((n, max_length), dtype=int)\n",
    "    for i in range(n):\n",
    "        min_length = get_length(i)\n",
    "        length = get_length(i+1)\n",
    "        results[i][min_length:length] = i+1\n",
    "    return results\n",
    "\n",
    "\n",
    "get_res(4)"
   ]
  },
  {
   "cell_type": "markdown",
   "id": "385260e9",
   "metadata": {},
   "source": [
    "## Ex2：统计学生的成绩情况\n",
    "\n",
    "\n",
    "在data/supplement/ex2目录下存放了某校高三第一学期的学生成绩情况，包含16次周测成绩、期中考试成绩和期末考试成绩，科目一栏的成绩表示学生选课的成绩。所有的表中，相同的行表示的是同一位同学。请完成以下练习：\n",
    "\n",
    "- 该校高三年级中是否存在姓名相同的学生？\n",
    "\n",
    "- 在第一次周测中，请求出每个班级选修物理或化学同学的语数英总分的平均值。哪个班级最高？\n",
    "\n",
    "- 学生在该学期的总评计算方式是各次考试总分的加权平均值，其中周测成绩权重为50%（每次测验权重相等，即3.125%），期中权重为20%，期末权重为30%。请结合nlargest函数找出年级中总评前十的同学。\n",
    "\n",
    "- 请统计1班到8班文理科（物化生为理科，政史地为文科）期末考试总分前5的学生，结果格式如下，括号内的为选科分数：\n",
    "\n"
   ]
  },
  {
   "cell_type": "code",
   "execution_count": 32,
   "id": "394790e4",
   "metadata": {
    "ExecuteTime": {
     "end_time": "2022-09-30T16:31:07.408537Z",
     "start_time": "2022-09-30T16:31:07.369744Z"
    },
    "scrolled": true
   },
   "outputs": [
    {
     "data": {
      "text/html": [
       "<div>\n",
       "<style scoped>\n",
       "    .dataframe tbody tr th:only-of-type {\n",
       "        vertical-align: middle;\n",
       "    }\n",
       "\n",
       "    .dataframe tbody tr th {\n",
       "        vertical-align: top;\n",
       "    }\n",
       "\n",
       "    .dataframe thead th {\n",
       "        text-align: right;\n",
       "    }\n",
       "</style>\n",
       "<table border=\"1\" class=\"dataframe\">\n",
       "  <thead>\n",
       "    <tr style=\"text-align: right;\">\n",
       "      <th></th>\n",
       "      <th>班级</th>\n",
       "      <th>姓名</th>\n",
       "      <th>选科</th>\n",
       "      <th>语文</th>\n",
       "      <th>数学</th>\n",
       "      <th>英语</th>\n",
       "      <th>科目</th>\n",
       "    </tr>\n",
       "  </thead>\n",
       "  <tbody>\n",
       "    <tr>\n",
       "      <th>0</th>\n",
       "      <td>1</td>\n",
       "      <td>吴刚</td>\n",
       "      <td>地理</td>\n",
       "      <td>93</td>\n",
       "      <td>95</td>\n",
       "      <td>82</td>\n",
       "      <td>69</td>\n",
       "    </tr>\n",
       "    <tr>\n",
       "      <th>1</th>\n",
       "      <td>1</td>\n",
       "      <td>卢楠</td>\n",
       "      <td>物理</td>\n",
       "      <td>108</td>\n",
       "      <td>77</td>\n",
       "      <td>90</td>\n",
       "      <td>94</td>\n",
       "    </tr>\n",
       "    <tr>\n",
       "      <th>2</th>\n",
       "      <td>1</td>\n",
       "      <td>唐秀兰</td>\n",
       "      <td>历史</td>\n",
       "      <td>88</td>\n",
       "      <td>72</td>\n",
       "      <td>95</td>\n",
       "      <td>85</td>\n",
       "    </tr>\n",
       "    <tr>\n",
       "      <th>3</th>\n",
       "      <td>1</td>\n",
       "      <td>张刚</td>\n",
       "      <td>化学</td>\n",
       "      <td>85</td>\n",
       "      <td>88</td>\n",
       "      <td>102</td>\n",
       "      <td>76</td>\n",
       "    </tr>\n",
       "    <tr>\n",
       "      <th>4</th>\n",
       "      <td>1</td>\n",
       "      <td>姜洋</td>\n",
       "      <td>历史</td>\n",
       "      <td>104</td>\n",
       "      <td>99</td>\n",
       "      <td>84</td>\n",
       "      <td>86</td>\n",
       "    </tr>\n",
       "  </tbody>\n",
       "</table>\n",
       "</div>"
      ],
      "text/plain": [
       "   班级   姓名  选科   语文  数学   英语  科目\n",
       "0   1   吴刚  地理   93  95   82  69\n",
       "1   1   卢楠  物理  108  77   90  94\n",
       "2   1  唐秀兰  历史   88  72   95  85\n",
       "3   1   张刚  化学   85  88  102  76\n",
       "4   1   姜洋  历史  104  99   84  86"
      ]
     },
     "execution_count": 32,
     "metadata": {},
     "output_type": "execute_result"
    }
   ],
   "source": [
    "df = pd.read_csv('../data/supplement/ex2/第1次周测成绩.csv')\n",
    "df.head() "
   ]
  },
  {
   "cell_type": "code",
   "execution_count": 35,
   "id": "6a5256c4",
   "metadata": {
    "ExecuteTime": {
     "end_time": "2022-09-30T16:33:41.185388Z",
     "start_time": "2022-09-30T16:33:41.178361Z"
    }
   },
   "outputs": [
    {
     "data": {
      "text/plain": [
       "True"
      ]
     },
     "execution_count": 35,
     "metadata": {},
     "output_type": "execute_result"
    }
   ],
   "source": [
    "# 1\n",
    "len(df.drop_duplicates(subset=['姓名'])) == len(df)"
   ]
  },
  {
   "cell_type": "code",
   "execution_count": 36,
   "id": "16899275",
   "metadata": {
    "ExecuteTime": {
     "end_time": "2022-09-30T16:34:07.507960Z",
     "start_time": "2022-09-30T16:34:07.504855Z"
    }
   },
   "outputs": [],
   "source": [
    "# True  没有姓名相同的学生"
   ]
  },
  {
   "cell_type": "code",
   "execution_count": 38,
   "id": "f019c6ae",
   "metadata": {
    "ExecuteTime": {
     "end_time": "2022-09-30T16:37:20.806406Z",
     "start_time": "2022-09-30T16:37:20.792926Z"
    }
   },
   "outputs": [
    {
     "data": {
      "text/plain": [
       "班级\n",
       "2    93.939394\n",
       "1    91.575758\n",
       "6    90.964912\n",
       "7    90.272727\n",
       "9    90.023810\n",
       "dtype: float64"
      ]
     },
     "execution_count": 38,
     "metadata": {},
     "output_type": "execute_result"
    }
   ],
   "source": [
    "# 2\n",
    "df.loc[df['选科'].isin(['物理','化学'])].groupby(df['班级'])[['语文','数学','英语']].\\\n",
    "mean().sum(1).sort_values(ascending=False).head()/3 "
   ]
  },
  {
   "cell_type": "code",
   "execution_count": 39,
   "id": "037e49dc",
   "metadata": {
    "ExecuteTime": {
     "end_time": "2022-09-30T16:38:26.013111Z",
     "start_time": "2022-09-30T16:38:25.951984Z"
    }
   },
   "outputs": [],
   "source": [
    "# 3\n",
    "import os\n",
    "data_dir = '../data/supplement/ex2'\n",
    "df_16 = pd.DataFrame(columns=['班级', '姓名', '选科', '语文', '数学', '英语', '科目'])\n",
    "for file_name in os.listdir(data_dir):\n",
    "    if file_name == '期中考试成绩.csv':\n",
    "        df_mid = pd.read_csv(os.path.join(data_dir, file_name)\n",
    "                         ).set_index('姓名').sort_index()\n",
    "    elif file_name == '期末考试成绩.csv':\n",
    "        df_end = pd.read_csv(os.path.join(data_dir, file_name)\n",
    "                         ).set_index('姓名').sort_index()\n",
    "    else:\n",
    "        df_week = pd.read_csv(os.path.join(data_dir, file_name))\n",
    "df_16 = pd.concat([df_16, df_week], axis=0)\n",
    "# 16次周测验的总成绩平均值\n",
    "score_week = df_16.groupby(\n",
    "    df['姓名'])[['语文', '数学', '英语', '科目']].sum().sum(1).sort_index()/16"
   ]
  },
  {
   "cell_type": "code",
   "execution_count": 40,
   "id": "2180cdb5",
   "metadata": {
    "ExecuteTime": {
     "end_time": "2022-09-30T16:38:40.888807Z",
     "start_time": "2022-09-30T16:38:40.882057Z"
    }
   },
   "outputs": [
    {
     "data": {
      "text/plain": [
       "姓名\n",
       "丁帅     24.0000\n",
       "丁斌     25.0625\n",
       "丁燕     24.1250\n",
       "万云     23.0000\n",
       "万志强    24.5625\n",
       "        ...   \n",
       "龙晨     22.8125\n",
       "龙秀荣    24.6250\n",
       "龙鑫     25.5000\n",
       "龙雪梅    26.5625\n",
       "龚建华    22.8125\n",
       "Length: 896, dtype: float64"
      ]
     },
     "execution_count": 40,
     "metadata": {},
     "output_type": "execute_result"
    }
   ],
   "source": [
    "score_week"
   ]
  },
  {
   "cell_type": "code",
   "execution_count": 42,
   "id": "26421784",
   "metadata": {
    "ExecuteTime": {
     "end_time": "2022-09-30T16:39:09.115482Z",
     "start_time": "2022-09-30T16:39:09.102937Z"
    }
   },
   "outputs": [
    {
     "data": {
      "text/plain": [
       "Index(['王想', '孙桂珍', '黄萍', '张欢', '杨博', '钟辉', '鲁瑞', '关斌', '殷志强', '王淑英'], dtype='object', name='姓名')"
      ]
     },
     "execution_count": 42,
     "metadata": {},
     "output_type": "execute_result"
    }
   ],
   "source": [
    "score = df_mid[['语文', '数学', '英语', '科目']].sum(1)*0.2 +\\\n",
    "    df_end[['语文', '数学', '英语', '科目']].sum(1)*0.3+score_week*0.5\n",
    "score.sort_values(ascending=False).index[:10]\n"
   ]
  },
  {
   "cell_type": "code",
   "execution_count": 43,
   "id": "469bf09a",
   "metadata": {
    "ExecuteTime": {
     "end_time": "2022-09-30T16:39:23.071013Z",
     "start_time": "2022-09-30T16:39:23.040910Z"
    }
   },
   "outputs": [
    {
     "data": {
      "text/html": [
       "<div>\n",
       "<style scoped>\n",
       "    .dataframe tbody tr th:only-of-type {\n",
       "        vertical-align: middle;\n",
       "    }\n",
       "\n",
       "    .dataframe tbody tr th {\n",
       "        vertical-align: top;\n",
       "    }\n",
       "\n",
       "    .dataframe thead th {\n",
       "        text-align: right;\n",
       "    }\n",
       "</style>\n",
       "<table border=\"1\" class=\"dataframe\">\n",
       "  <thead>\n",
       "    <tr style=\"text-align: right;\">\n",
       "      <th></th>\n",
       "      <th>班级</th>\n",
       "      <th>选科</th>\n",
       "      <th>姓名</th>\n",
       "      <th>总分</th>\n",
       "    </tr>\n",
       "  </thead>\n",
       "  <tbody>\n",
       "    <tr>\n",
       "      <th>0</th>\n",
       "      <td>1</td>\n",
       "      <td>False</td>\n",
       "      <td>任兰英</td>\n",
       "      <td>351</td>\n",
       "    </tr>\n",
       "    <tr>\n",
       "      <th>1</th>\n",
       "      <td>1</td>\n",
       "      <td>False</td>\n",
       "      <td>余峰</td>\n",
       "      <td>367</td>\n",
       "    </tr>\n",
       "    <tr>\n",
       "      <th>2</th>\n",
       "      <td>1</td>\n",
       "      <td>False</td>\n",
       "      <td>刘丽</td>\n",
       "      <td>390</td>\n",
       "    </tr>\n",
       "    <tr>\n",
       "      <th>3</th>\n",
       "      <td>1</td>\n",
       "      <td>False</td>\n",
       "      <td>刘婷婷</td>\n",
       "      <td>414</td>\n",
       "    </tr>\n",
       "    <tr>\n",
       "      <th>4</th>\n",
       "      <td>1</td>\n",
       "      <td>False</td>\n",
       "      <td>刘桂荣</td>\n",
       "      <td>394</td>\n",
       "    </tr>\n",
       "    <tr>\n",
       "      <th>...</th>\n",
       "      <td>...</td>\n",
       "      <td>...</td>\n",
       "      <td>...</td>\n",
       "      <td>...</td>\n",
       "    </tr>\n",
       "    <tr>\n",
       "      <th>676</th>\n",
       "      <td>8</td>\n",
       "      <td>True</td>\n",
       "      <td>陈玲</td>\n",
       "      <td>351</td>\n",
       "    </tr>\n",
       "    <tr>\n",
       "      <th>677</th>\n",
       "      <td>8</td>\n",
       "      <td>True</td>\n",
       "      <td>高莉</td>\n",
       "      <td>381</td>\n",
       "    </tr>\n",
       "    <tr>\n",
       "      <th>678</th>\n",
       "      <td>8</td>\n",
       "      <td>True</td>\n",
       "      <td>黄利</td>\n",
       "      <td>382</td>\n",
       "    </tr>\n",
       "    <tr>\n",
       "      <th>679</th>\n",
       "      <td>8</td>\n",
       "      <td>True</td>\n",
       "      <td>黄斌</td>\n",
       "      <td>423</td>\n",
       "    </tr>\n",
       "    <tr>\n",
       "      <th>680</th>\n",
       "      <td>8</td>\n",
       "      <td>True</td>\n",
       "      <td>黎想</td>\n",
       "      <td>430</td>\n",
       "    </tr>\n",
       "  </tbody>\n",
       "</table>\n",
       "<p>681 rows × 4 columns</p>\n",
       "</div>"
      ],
      "text/plain": [
       "     班级     选科   姓名   总分\n",
       "0     1  False  任兰英  351\n",
       "1     1  False   余峰  367\n",
       "2     1  False   刘丽  390\n",
       "3     1  False  刘婷婷  414\n",
       "4     1  False  刘桂荣  394\n",
       "..   ..    ...  ...  ...\n",
       "676   8   True   陈玲  351\n",
       "677   8   True   高莉  381\n",
       "678   8   True   黄利  382\n",
       "679   8   True   黄斌  423\n",
       "680   8   True   黎想  430\n",
       "\n",
       "[681 rows x 4 columns]"
      ]
     },
     "execution_count": 43,
     "metadata": {},
     "output_type": "execute_result"
    }
   ],
   "source": [
    "df8 = df_end.loc[df_end['班级'] < 9].reset_index()  # 选出前8个班的同学\n",
    "# 根据班级、姓名、文理科分组，计算总分\n",
    "df8 = df8.groupby([df8['班级'], df8['选科'].isin\n",
    "                   (['物理', '化学', '生物']), df8['姓名']])[['语文', '数学', '英语', '科目']].sum(1).sum(1)\n",
    "df8 = pd.DataFrame(df8, columns=['总分']).reset_index()\n",
    "df8"
   ]
  },
  {
   "cell_type": "code",
   "execution_count": 45,
   "id": "9671159a",
   "metadata": {
    "ExecuteTime": {
     "end_time": "2022-09-30T16:39:45.058149Z",
     "start_time": "2022-09-30T16:39:45.027447Z"
    }
   },
   "outputs": [
    {
     "name": "stderr",
     "output_type": "stream",
     "text": [
      "/var/folders/8k/j3wdmmpn2_v23sjqdz57r95c0000gn/T/ipykernel_60869/3373012344.py:4: FutureWarning: In a future version of pandas all arguments of Series.sort_values will be keyword-only.\n",
      "  return s.sort_values(['总分'], ascending=False)[:5]\n",
      "/var/folders/8k/j3wdmmpn2_v23sjqdz57r95c0000gn/T/ipykernel_60869/3373012344.py:8: FutureWarning: Dropping invalid columns in DataFrameGroupBy.agg is deprecated. In a future version, a TypeError will be raised. Before calling .agg, select only columns which should be valid for the function.\n",
      "  df_top5 = df8.groupby([df8['班级'], df8['选科']])[\n"
     ]
    },
    {
     "data": {
      "text/html": [
       "<div>\n",
       "<style scoped>\n",
       "    .dataframe tbody tr th:only-of-type {\n",
       "        vertical-align: middle;\n",
       "    }\n",
       "\n",
       "    .dataframe tbody tr th {\n",
       "        vertical-align: top;\n",
       "    }\n",
       "\n",
       "    .dataframe thead th {\n",
       "        text-align: right;\n",
       "    }\n",
       "</style>\n",
       "<table border=\"1\" class=\"dataframe\">\n",
       "  <thead>\n",
       "    <tr style=\"text-align: right;\">\n",
       "      <th></th>\n",
       "      <th>班级</th>\n",
       "      <th>选科</th>\n",
       "      <th>姓名</th>\n",
       "      <th>总分</th>\n",
       "    </tr>\n",
       "  </thead>\n",
       "  <tbody>\n",
       "    <tr>\n",
       "      <th>0</th>\n",
       "      <td>1</td>\n",
       "      <td>False</td>\n",
       "      <td>秦利</td>\n",
       "      <td>435</td>\n",
       "    </tr>\n",
       "    <tr>\n",
       "      <th>1</th>\n",
       "      <td>1</td>\n",
       "      <td>False</td>\n",
       "      <td>王雷</td>\n",
       "      <td>415</td>\n",
       "    </tr>\n",
       "    <tr>\n",
       "      <th>2</th>\n",
       "      <td>1</td>\n",
       "      <td>False</td>\n",
       "      <td>刘婷婷</td>\n",
       "      <td>414</td>\n",
       "    </tr>\n",
       "    <tr>\n",
       "      <th>3</th>\n",
       "      <td>1</td>\n",
       "      <td>False</td>\n",
       "      <td>唐秀兰</td>\n",
       "      <td>411</td>\n",
       "    </tr>\n",
       "    <tr>\n",
       "      <th>4</th>\n",
       "      <td>1</td>\n",
       "      <td>False</td>\n",
       "      <td>龙晨</td>\n",
       "      <td>401</td>\n",
       "    </tr>\n",
       "  </tbody>\n",
       "</table>\n",
       "</div>"
      ],
      "text/plain": [
       "   班级     选科   姓名   总分\n",
       "0   1  False   秦利  435\n",
       "1   1  False   王雷  415\n",
       "2   1  False  刘婷婷  414\n",
       "3   1  False  唐秀兰  411\n",
       "4   1  False   龙晨  401"
      ]
     },
     "execution_count": 45,
     "metadata": {},
     "output_type": "execute_result"
    }
   ],
   "source": [
    "# 定义组内排序函数\n",
    "def sort(s):\n",
    "\n",
    "    return s.sort_values(['总分'], ascending=False)[:5]\n",
    "\n",
    "\n",
    "# 根据班级、文理科分组排序取前5名\n",
    "df_top5 = df8.groupby([df8['班级'], df8['选科']])[\n",
    "    ['姓名', '总分']].agg(sort).reset_index()\n",
    "del df_top5['level_2']  # 重设索引时多了一列之前的索引，将其去掉\n",
    "df_top5.head()"
   ]
  },
  {
   "cell_type": "code",
   "execution_count": 46,
   "id": "edc6c6b1",
   "metadata": {
    "ExecuteTime": {
     "end_time": "2022-09-30T16:39:58.877956Z",
     "start_time": "2022-09-30T16:39:58.845657Z"
    }
   },
   "outputs": [
    {
     "data": {
      "text/html": [
       "<div>\n",
       "<style scoped>\n",
       "    .dataframe tbody tr th:only-of-type {\n",
       "        vertical-align: middle;\n",
       "    }\n",
       "\n",
       "    .dataframe tbody tr th {\n",
       "        vertical-align: top;\n",
       "    }\n",
       "\n",
       "    .dataframe thead th {\n",
       "        text-align: right;\n",
       "    }\n",
       "</style>\n",
       "<table border=\"1\" class=\"dataframe\">\n",
       "  <thead>\n",
       "    <tr style=\"text-align: right;\">\n",
       "      <th></th>\n",
       "      <th>班级</th>\n",
       "      <th>姓名</th>\n",
       "    </tr>\n",
       "  </thead>\n",
       "  <tbody>\n",
       "    <tr>\n",
       "      <th>0</th>\n",
       "      <td>1班（文）</td>\n",
       "      <td>秦利:地理（116）</td>\n",
       "    </tr>\n",
       "    <tr>\n",
       "      <th>1</th>\n",
       "      <td>1班（文）</td>\n",
       "      <td>王雷:地理（116）</td>\n",
       "    </tr>\n",
       "    <tr>\n",
       "      <th>2</th>\n",
       "      <td>1班（文）</td>\n",
       "      <td>刘婷婷:地理（115）</td>\n",
       "    </tr>\n",
       "    <tr>\n",
       "      <th>3</th>\n",
       "      <td>1班（文）</td>\n",
       "      <td>唐秀兰:历史（115）</td>\n",
       "    </tr>\n",
       "    <tr>\n",
       "      <th>4</th>\n",
       "      <td>1班（文）</td>\n",
       "      <td>龙晨:地理（106）</td>\n",
       "    </tr>\n",
       "    <tr>\n",
       "      <th>...</th>\n",
       "      <td>...</td>\n",
       "      <td>...</td>\n",
       "    </tr>\n",
       "    <tr>\n",
       "      <th>75</th>\n",
       "      <td>8班（理）</td>\n",
       "      <td>王想:物理（115）</td>\n",
       "    </tr>\n",
       "    <tr>\n",
       "      <th>76</th>\n",
       "      <td>8班（理）</td>\n",
       "      <td>刘娜:化学（102）</td>\n",
       "    </tr>\n",
       "    <tr>\n",
       "      <th>77</th>\n",
       "      <td>8班（理）</td>\n",
       "      <td>黎想:化学（118）</td>\n",
       "    </tr>\n",
       "    <tr>\n",
       "      <th>78</th>\n",
       "      <td>8班（理）</td>\n",
       "      <td>严琳:化学（125）</td>\n",
       "    </tr>\n",
       "    <tr>\n",
       "      <th>79</th>\n",
       "      <td>8班（理）</td>\n",
       "      <td>张桂香:物理（124）</td>\n",
       "    </tr>\n",
       "  </tbody>\n",
       "</table>\n",
       "<p>80 rows × 2 columns</p>\n",
       "</div>"
      ],
      "text/plain": [
       "       班级           姓名\n",
       "0   1班（文）   秦利:地理（116）\n",
       "1   1班（文）   王雷:地理（116）\n",
       "2   1班（文）  刘婷婷:地理（115）\n",
       "3   1班（文）  唐秀兰:历史（115）\n",
       "4   1班（文）   龙晨:地理（106）\n",
       "..    ...          ...\n",
       "75  8班（理）   王想:物理（115）\n",
       "76  8班（理）   刘娜:化学（102）\n",
       "77  8班（理）   黎想:化学（118）\n",
       "78  8班（理）   严琳:化学（125）\n",
       "79  8班（理）  张桂香:物理（124）\n",
       "\n",
       "[80 rows x 2 columns]"
      ]
     },
     "execution_count": 46,
     "metadata": {},
     "output_type": "execute_result"
    }
   ],
   "source": [
    "df_top5 = df_top5.merge(df_end, on=['姓名', '班级'], how='left')  # 合并之前的表拿到选科和选科成绩\n",
    "# 更改格式方便后面合并列\n",
    "df_top5['班级'] = df_top5['班级'].apply(lambda x: str(x)+'班')\n",
    "df_top5['选科_x'] = df_top5['选科_x'].apply(lambda x: '（理）' if x else '（文）')\n",
    "df_top5['科目'] = df_top5['科目'].apply(lambda x: '（'+str(x)+'）')\n",
    "df_top5.eval('班级=班级+选科_x', inplace=True)\n",
    "df_top5.eval('科目=选科_y+科目', inplace=True)\n",
    "df_top5 = df_top5[['班级', '姓名', '科目']]\n",
    "df_top5['姓名'] = df_top5['姓名'].apply(lambda x: str(x)+':')\n",
    "df_top5.eval('姓名=姓名+科目', inplace=True)\n",
    "del df_top5['科目']\n",
    "df_top5  # 到这一步改不了横表了，不会做啊"
   ]
  },
  {
   "cell_type": "code",
   "execution_count": 48,
   "id": "ef640d04",
   "metadata": {
    "ExecuteTime": {
     "end_time": "2022-09-30T16:40:24.949414Z",
     "start_time": "2022-09-30T16:40:24.931182Z"
    }
   },
   "outputs": [],
   "source": [
    "# 之前的df_mid和df_end索引都是姓名，连接时要重置索引\n",
    "df_all = pd.concat([df_16, df_mid.reset_index(),\n",
    "                   df_end.reset_index()], axis=0).reset_index()\n",
    "df_all.eval('总分=语文+数学+英语+科目', inplace=True)\n",
    "# 将index设置为考试的次数，比如第一次、第二次......第18次\n",
    "# 列表ls是1到18重复896次后展平\n",
    "ls = np.array([[i]*896 for i in range(1, 19, 1)]).flatten()"
   ]
  },
  {
   "cell_type": "code",
   "execution_count": null,
   "id": "47e13a74",
   "metadata": {},
   "outputs": [],
   "source": []
  }
 ],
 "metadata": {
  "hide_input": false,
  "kernelspec": {
   "display_name": "Python 3 (ipykernel)",
   "language": "python",
   "name": "python3"
  },
  "language_info": {
   "codemirror_mode": {
    "name": "ipython",
    "version": 3
   },
   "file_extension": ".py",
   "mimetype": "text/x-python",
   "name": "python",
   "nbconvert_exporter": "python",
   "pygments_lexer": "ipython3",
   "version": "3.9.13"
  },
  "toc": {
   "base_numbering": 1,
   "nav_menu": {},
   "number_sections": true,
   "sideBar": true,
   "skip_h1_title": false,
   "title_cell": "Table of Contents",
   "title_sidebar": "Contents",
   "toc_cell": false,
   "toc_position": {},
   "toc_section_display": true,
   "toc_window_display": false
  }
 },
 "nbformat": 4,
 "nbformat_minor": 5
}
