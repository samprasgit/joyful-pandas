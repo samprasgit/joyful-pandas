{
 "cells": [
  {
   "cell_type": "code",
   "execution_count": 1,
   "id": "7f29b9a0",
   "metadata": {
    "ExecuteTime": {
     "end_time": "2022-09-11T14:30:33.796215Z",
     "start_time": "2022-09-11T14:30:33.253475Z"
    }
   },
   "outputs": [],
   "source": [
    "import pandas as pd \n",
    "import numpy  as np \n",
    "import matplotlib.pyplot as plt "
   ]
  },
  {
   "cell_type": "code",
   "execution_count": 4,
   "id": "a6f25aa5",
   "metadata": {
    "ExecuteTime": {
     "end_time": "2022-09-11T14:40:37.672580Z",
     "start_time": "2022-09-11T14:40:37.669587Z"
    }
   },
   "outputs": [],
   "source": [
    "# 多行显示\n",
    "from IPython.core.interactiveshell import InteractiveShell\n",
    "InteractiveShell.ast_node_interactivity=\"all\""
   ]
  },
  {
   "cell_type": "markdown",
   "id": "c87bfd2a",
   "metadata": {},
   "source": [
    "## Numpy的向量化运算"
   ]
  },
  {
   "cell_type": "markdown",
   "id": "21d96f69",
   "metadata": {},
   "source": [
    "### 给定一个正整数列表，请找出缺失的最小正整数 "
   ]
  },
  {
   "cell_type": "code",
   "execution_count": 7,
   "id": "1181a6ea",
   "metadata": {
    "ExecuteTime": {
     "end_time": "2022-09-11T14:42:11.564360Z",
     "start_time": "2022-09-11T14:42:11.547383Z"
    }
   },
   "outputs": [
    {
     "data": {
      "text/plain": [
       "1"
      ]
     },
     "execution_count": 7,
     "metadata": {},
     "output_type": "execute_result"
    },
    {
     "data": {
      "text/plain": [
       "4"
      ]
     },
     "execution_count": 7,
     "metadata": {},
     "output_type": "execute_result"
    },
    {
     "data": {
      "text/plain": [
       "6"
      ]
     },
     "execution_count": 7,
     "metadata": {},
     "output_type": "execute_result"
    }
   ],
   "source": [
    "# 构造函数\n",
    "def get_miss(nums):\n",
    "    n = len(nums)\n",
    "    for i in range(n):\n",
    "        while 1 <= nums[i] <= n and nums[i] != nums[nums[i]-1]:\n",
    "            # 交换\n",
    "            nums[nums[i]-1], nums[i] = nums[i], nums[nums[i]-1]\n",
    "\n",
    "    # 将数组恢复到正确位置后，再次遍历，当某个元素不在正确位置时，就是要找到的第一个缺失的正数\n",
    "    for i in range(n):\n",
    "        if nums[i] != i+1:\n",
    "            return i+1\n",
    "\n",
    "    return n+1\n",
    "\n",
    "\n",
    "#  测试\n",
    "arr = np.array([2, 3, 4])\n",
    "get_miss(arr)\n",
    "\n",
    "arr2 = np.array([6, 3, 5, 1, 2])\n",
    "get_miss(arr2)\n",
    "\n",
    "arr3 = np.array([5, 2, 1, 3, 4])\n",
    "get_miss(arr3)"
   ]
  },
  {
   "cell_type": "markdown",
   "id": "d73acee2",
   "metadata": {},
   "source": [
    "### 设计一个生成二维NumPy数组的函数get_res()，其输入为正整数n，返回的数组构造方式如下：第1行填入1个1，第2行在上一行填入位置的下一列连续填入2个2，第3行在第二行最后一个填入位置的下一列连续填入3个3，…，第n行在第n-1行最后一个填入位置的下一列连续填入n个n。\n",
    "\n"
   ]
  },
  {
   "cell_type": "code",
   "execution_count": 26,
   "id": "03f6cc3f",
   "metadata": {
    "ExecuteTime": {
     "end_time": "2022-09-11T15:10:17.358642Z",
     "start_time": "2022-09-11T15:10:17.351180Z"
    }
   },
   "outputs": [
    {
     "data": {
      "text/plain": [
       "array([[1, 0, 0, 0, 0, 0, 0, 0, 0, 0],\n",
       "       [0, 2, 2, 0, 0, 0, 0, 0, 0, 0],\n",
       "       [0, 0, 0, 3, 3, 3, 0, 0, 0, 0],\n",
       "       [0, 0, 0, 0, 0, 0, 4, 4, 4, 4]])"
      ]
     },
     "execution_count": 26,
     "metadata": {},
     "output_type": "execute_result"
    }
   ],
   "source": [
    "def get_length(x):\n",
    "    return int(x*(x+1)/2)\n",
    "\n",
    "def get_res(n):\n",
    "    max_length = get_length(n)\n",
    "    results = np.zeros((n, max_length), dtype=int)\n",
    "    for i in range(n):\n",
    "        min_length = get_length(i)\n",
    "        length = get_length(i+1)\n",
    "        results[i][min_length:length] = i+1\n",
    "    return results\n",
    "\n",
    "\n",
    "get_res(4)"
   ]
  },
  {
   "cell_type": "code",
   "execution_count": null,
   "id": "b2ab5f03",
   "metadata": {},
   "outputs": [],
   "source": []
  }
 ],
 "metadata": {
  "hide_input": false,
  "kernelspec": {
   "display_name": "Python 3 (ipykernel)",
   "language": "python",
   "name": "python3"
  },
  "language_info": {
   "codemirror_mode": {
    "name": "ipython",
    "version": 3
   },
   "file_extension": ".py",
   "mimetype": "text/x-python",
   "name": "python",
   "nbconvert_exporter": "python",
   "pygments_lexer": "ipython3",
   "version": "3.9.13"
  },
  "toc": {
   "base_numbering": 1,
   "nav_menu": {},
   "number_sections": true,
   "sideBar": true,
   "skip_h1_title": false,
   "title_cell": "Table of Contents",
   "title_sidebar": "Contents",
   "toc_cell": false,
   "toc_position": {},
   "toc_section_display": true,
   "toc_window_display": false
  }
 },
 "nbformat": 4,
 "nbformat_minor": 5
}
